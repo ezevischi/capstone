{
  "nbformat": 4,
  "nbformat_minor": 0,
  "metadata": {
    "colab": {
      "name": "Description problem (Capstone).ipynb",
      "provenance": [],
      "authorship_tag": "ABX9TyPD/ESAvEYIW+GncanQ/TrF",
      "include_colab_link": true
    },
    "kernelspec": {
      "name": "python3",
      "display_name": "Python 3"
    }
  },
  "cells": [
    {
      "cell_type": "markdown",
      "metadata": {
        "id": "view-in-github",
        "colab_type": "text"
      },
      "source": [
        "<a href=\"https://colab.research.google.com/github/ezevischi/capstone/blob/master/Description_problem_(Capstone).ipynb\" target=\"_parent\"><img src=\"https://colab.research.google.com/assets/colab-badge.svg\" alt=\"Open In Colab\"/></a>"
      ]
    },
    {
      "cell_type": "markdown",
      "metadata": {
        "id": "j_ck5cUBJVGF",
        "colab_type": "text"
      },
      "source": [
        "**A description of the problem and a discussion of the background.**\n",
        "\n",
        "In the city where I live, I would like to know where it would be more convenient on a regular basis to fill my car with gasoline. Therefore I thought of two options, fill it near my home or near work, in which I go by car. With Foursquare I can do the analysis and decide in which neighborhood I have more options. In turn, he would need to fill up gasoline at \"Shell\" brand service stations.\n",
        "\n",
        "\n",
        "\n"
      ]
    }
  ]
}