{
  "nbformat": 4,
  "nbformat_minor": 0,
  "metadata": {
    "colab": {
      "name": "Description of the data (Capstone).ipynb",
      "provenance": [],
      "authorship_tag": "ABX9TyNoUa2dvODSkbQ4WVR1FQq1",
      "include_colab_link": true
    },
    "kernelspec": {
      "name": "python3",
      "display_name": "Python 3"
    }
  },
  "cells": [
    {
      "cell_type": "markdown",
      "metadata": {
        "id": "view-in-github",
        "colab_type": "text"
      },
      "source": [
        "<a href=\"https://colab.research.google.com/github/ezevischi/capstone/blob/master/Description_of_the_data_(Capstone).ipynb\" target=\"_parent\"><img src=\"https://colab.research.google.com/assets/colab-badge.svg\" alt=\"Open In Colab\"/></a>"
      ]
    },
    {
      "cell_type": "markdown",
      "metadata": {
        "id": "TcGYX0i8Lkrx",
        "colab_type": "text"
      },
      "source": [
        "**A description of the data and how it will be used to solve the problem**\n",
        "\n",
        "\n",
        "\n",
        "*   \n",
        "I will identify the geographic coordinates of the office and residential area\n",
        "*  \n",
        "I will make the call through the Foursquare API on Shell brand gas stations\n",
        "\n",
        "\n",
        "*   \n",
        "I will analyze distances between the reference point and the available service stations in order to optimize mobility\n",
        "\n",
        "\n",
        "*   \n",
        "Below the link where is the database on the gas stations http://res1104.se.gob.ar/consultaprecios.eess.php\n",
        "\n",
        "\n",
        "\n",
        "\n",
        "\n",
        "\n",
        "\n",
        "\n",
        "\n",
        "\n"
      ]
    }
  ]
}